{
 "cells": [
  {
   "cell_type": "markdown",
   "metadata": {
    "id": "Ls4iKnk633P_"
   },
   "source": [
    "***Import Dependencies***"
   ]
  },
  {
   "cell_type": "code",
   "execution_count": 1,
   "metadata": {
    "id": "AAsEYY8P374B"
   },
   "outputs": [],
   "source": [
    "import numpy as np\n",
    "import pandas as pd\n",
    "import matplotlib.pyplot as plt\n",
    "import seaborn as sns\n",
    "import pickle\n",
    "from sklearn.model_selection import train_test_split\n",
    "from sklearn.linear_model import LinearRegression\n",
    "from sklearn.ensemble import RandomForestRegressor\n",
    "from sklearn.tree import DecisionTreeRegressor\n",
    "from sklearn.linear_model import Lasso\n",
    "from sklearn import metrics\n",
    "from matplotlib import pyplot as plt\n",
    "from matplotlib import *\n"
   ]
  },
  {
   "cell_type": "code",
   "execution_count": 2,
   "metadata": {
    "id": "8zULR5XA6LSX"
   },
   "outputs": [],
   "source": [
    "#Font for graph labels, this is used for all graphs in this notebook\n",
    "label_font = {\"fontsize\": 12, \n",
    "              \"color\" : \"darkred\",\n",
    "             'weight': 'normal'}\n",
    "#Font for graph title, this is used for all graphs in this notebook\n",
    "title_font = {\"fontsize\": 15, \n",
    "              \"color\" : \"darkred\",\n",
    "             'weight': 'normal'}"
   ]
  },
  {
   "cell_type": "markdown",
   "metadata": {
    "id": "MAMxXmSA4r2C"
   },
   "source": [
    "***Data Collection and Processing***"
   ]
  },
  {
   "cell_type": "code",
   "execution_count": 19,
   "metadata": {
    "id": "eiU55aFw4tCs"
   },
   "outputs": [],
   "source": [
    "#loading the csv data to a panda DataFrame\n",
    "agri_data=pd.read_csv('//Users/shreshikanayani/Desktop/sem_8/Agriculture2018.csv')"
   ]
  },
  {
   "cell_type": "code",
   "execution_count": 20,
   "metadata": {
    "colab": {
     "base_uri": "https://localhost:8080/",
     "height": 268
    },
    "id": "1jxx-W575Pr3",
    "outputId": "6a74bc33-e943-41ba-f7fd-7de712b97f8f"
   },
   "outputs": [
    {
     "data": {
      "text/html": [
       "<div>\n",
       "<style scoped>\n",
       "    .dataframe tbody tr th:only-of-type {\n",
       "        vertical-align: middle;\n",
       "    }\n",
       "\n",
       "    .dataframe tbody tr th {\n",
       "        vertical-align: top;\n",
       "    }\n",
       "\n",
       "    .dataframe thead th {\n",
       "        text-align: right;\n",
       "    }\n",
       "</style>\n",
       "<table border=\"1\" class=\"dataframe\">\n",
       "  <thead>\n",
       "    <tr style=\"text-align: right;\">\n",
       "      <th></th>\n",
       "      <th>state</th>\n",
       "      <th>district</th>\n",
       "      <th>market</th>\n",
       "      <th>commodity</th>\n",
       "      <th>variety</th>\n",
       "      <th>arrival_date</th>\n",
       "      <th>min_price</th>\n",
       "      <th>max_price</th>\n",
       "      <th>modal_price</th>\n",
       "    </tr>\n",
       "  </thead>\n",
       "  <tbody>\n",
       "    <tr>\n",
       "      <th>0</th>\n",
       "      <td>Gujarat</td>\n",
       "      <td>Amreli</td>\n",
       "      <td>Damnagar</td>\n",
       "      <td>Bhindi(Ladies Finger)</td>\n",
       "      <td>Bhindi</td>\n",
       "      <td>18/01/2021</td>\n",
       "      <td>1400</td>\n",
       "      <td>1600</td>\n",
       "      <td>1500</td>\n",
       "    </tr>\n",
       "    <tr>\n",
       "      <th>1</th>\n",
       "      <td>Gujarat</td>\n",
       "      <td>Amreli</td>\n",
       "      <td>Damnagar</td>\n",
       "      <td>Brinjal</td>\n",
       "      <td>Other</td>\n",
       "      <td>18/01/2021</td>\n",
       "      <td>1000</td>\n",
       "      <td>1200</td>\n",
       "      <td>1100</td>\n",
       "    </tr>\n",
       "    <tr>\n",
       "      <th>2</th>\n",
       "      <td>Gujarat</td>\n",
       "      <td>Amreli</td>\n",
       "      <td>Damnagar</td>\n",
       "      <td>Cabbage</td>\n",
       "      <td>Cabbage</td>\n",
       "      <td>18/01/2021</td>\n",
       "      <td>200</td>\n",
       "      <td>400</td>\n",
       "      <td>300</td>\n",
       "    </tr>\n",
       "    <tr>\n",
       "      <th>3</th>\n",
       "      <td>Gujarat</td>\n",
       "      <td>Amreli</td>\n",
       "      <td>Damnagar</td>\n",
       "      <td>Cauliflower</td>\n",
       "      <td>Cauliflower</td>\n",
       "      <td>18/01/2021</td>\n",
       "      <td>400</td>\n",
       "      <td>600</td>\n",
       "      <td>500</td>\n",
       "    </tr>\n",
       "    <tr>\n",
       "      <th>4</th>\n",
       "      <td>Gujarat</td>\n",
       "      <td>Amreli</td>\n",
       "      <td>Damnagar</td>\n",
       "      <td>Coriander(Leaves)</td>\n",
       "      <td>Coriander</td>\n",
       "      <td>18/01/2021</td>\n",
       "      <td>300</td>\n",
       "      <td>500</td>\n",
       "      <td>400</td>\n",
       "    </tr>\n",
       "  </tbody>\n",
       "</table>\n",
       "</div>"
      ],
      "text/plain": [
       "     state district    market              commodity      variety  \\\n",
       "0  Gujarat   Amreli  Damnagar  Bhindi(Ladies Finger)       Bhindi   \n",
       "1  Gujarat   Amreli  Damnagar                Brinjal        Other   \n",
       "2  Gujarat   Amreli  Damnagar                Cabbage      Cabbage   \n",
       "3  Gujarat   Amreli  Damnagar            Cauliflower  Cauliflower   \n",
       "4  Gujarat   Amreli  Damnagar      Coriander(Leaves)    Coriander   \n",
       "\n",
       "  arrival_date  min_price  max_price  modal_price  \n",
       "0   18/01/2021       1400       1600         1500  \n",
       "1   18/01/2021       1000       1200         1100  \n",
       "2   18/01/2021        200        400          300  \n",
       "3   18/01/2021        400        600          500  \n",
       "4   18/01/2021        300        500          400  "
      ]
     },
     "execution_count": 20,
     "metadata": {},
     "output_type": "execute_result"
    }
   ],
   "source": [
    "#print First 5 rows in the dataframe\n",
    "agri_data.head()"
   ]
  },
  {
   "cell_type": "code",
   "execution_count": 21,
   "metadata": {
    "colab": {
     "base_uri": "https://localhost:8080/",
     "height": 337
    },
    "id": "57FasBW__wO0",
    "outputId": "0c8ad67f-251a-4ca5-b13b-6b49566d0736"
   },
   "outputs": [
    {
     "data": {
      "text/html": [
       "<div>\n",
       "<style scoped>\n",
       "    .dataframe tbody tr th:only-of-type {\n",
       "        vertical-align: middle;\n",
       "    }\n",
       "\n",
       "    .dataframe tbody tr th {\n",
       "        vertical-align: top;\n",
       "    }\n",
       "\n",
       "    .dataframe thead th {\n",
       "        text-align: right;\n",
       "    }\n",
       "</style>\n",
       "<table border=\"1\" class=\"dataframe\">\n",
       "  <thead>\n",
       "    <tr style=\"text-align: right;\">\n",
       "      <th></th>\n",
       "      <th>state</th>\n",
       "      <th>district</th>\n",
       "      <th>market</th>\n",
       "      <th>commodity</th>\n",
       "      <th>variety</th>\n",
       "      <th>arrival_date</th>\n",
       "      <th>min_price</th>\n",
       "      <th>max_price</th>\n",
       "      <th>modal_price</th>\n",
       "    </tr>\n",
       "  </thead>\n",
       "  <tbody>\n",
       "    <tr>\n",
       "      <th>214</th>\n",
       "      <td>West Bengal</td>\n",
       "      <td>Bankura</td>\n",
       "      <td>Khatra</td>\n",
       "      <td>Potato</td>\n",
       "      <td>Jyoti</td>\n",
       "      <td>18/01/2021</td>\n",
       "      <td>1180</td>\n",
       "      <td>1250</td>\n",
       "      <td>1200</td>\n",
       "    </tr>\n",
       "    <tr>\n",
       "      <th>215</th>\n",
       "      <td>West Bengal</td>\n",
       "      <td>Bankura</td>\n",
       "      <td>Khatra</td>\n",
       "      <td>Rice</td>\n",
       "      <td>Common</td>\n",
       "      <td>18/01/2021</td>\n",
       "      <td>2550</td>\n",
       "      <td>2650</td>\n",
       "      <td>2600</td>\n",
       "    </tr>\n",
       "    <tr>\n",
       "      <th>216</th>\n",
       "      <td>West Bengal</td>\n",
       "      <td>Bankura</td>\n",
       "      <td>Khatra</td>\n",
       "      <td>Sweet Pumpkin</td>\n",
       "      <td>Sweet Pumpkin</td>\n",
       "      <td>18/01/2021</td>\n",
       "      <td>900</td>\n",
       "      <td>1200</td>\n",
       "      <td>1000</td>\n",
       "    </tr>\n",
       "    <tr>\n",
       "      <th>217</th>\n",
       "      <td>West Bengal</td>\n",
       "      <td>Bankura</td>\n",
       "      <td>Khatra</td>\n",
       "      <td>Tomato</td>\n",
       "      <td>Tomato</td>\n",
       "      <td>18/01/2021</td>\n",
       "      <td>1700</td>\n",
       "      <td>2300</td>\n",
       "      <td>2000</td>\n",
       "    </tr>\n",
       "    <tr>\n",
       "      <th>218</th>\n",
       "      <td>West Bengal</td>\n",
       "      <td>Bankura</td>\n",
       "      <td>Khatra</td>\n",
       "      <td>Wheat</td>\n",
       "      <td>Sonalika</td>\n",
       "      <td>18/01/2021</td>\n",
       "      <td>1900</td>\n",
       "      <td>2100</td>\n",
       "      <td>2000</td>\n",
       "    </tr>\n",
       "  </tbody>\n",
       "</table>\n",
       "</div>"
      ],
      "text/plain": [
       "           state district  market      commodity        variety arrival_date  \\\n",
       "214  West Bengal  Bankura  Khatra         Potato          Jyoti   18/01/2021   \n",
       "215  West Bengal  Bankura  Khatra           Rice         Common   18/01/2021   \n",
       "216  West Bengal  Bankura  Khatra  Sweet Pumpkin  Sweet Pumpkin   18/01/2021   \n",
       "217  West Bengal  Bankura  Khatra         Tomato         Tomato   18/01/2021   \n",
       "218  West Bengal  Bankura  Khatra          Wheat       Sonalika   18/01/2021   \n",
       "\n",
       "     min_price  max_price  modal_price  \n",
       "214       1180       1250         1200  \n",
       "215       2550       2650         2600  \n",
       "216        900       1200         1000  \n",
       "217       1700       2300         2000  \n",
       "218       1900       2100         2000  "
      ]
     },
     "execution_count": 21,
     "metadata": {},
     "output_type": "execute_result"
    }
   ],
   "source": [
    "#last five rows of the dataframe\n",
    "agri_data.tail()"
   ]
  },
  {
   "cell_type": "code",
   "execution_count": 38,
   "metadata": {
    "colab": {
     "base_uri": "https://localhost:8080/"
    },
    "id": "7C_4Evod_1Nf",
    "outputId": "b573e26d-9242-4b1f-daa6-fa15a1a5b17a"
   },
   "outputs": [
    {
     "data": {
      "text/plain": [
       "(219, 9)"
      ]
     },
     "execution_count": 38,
     "metadata": {},
     "output_type": "execute_result"
    }
   ],
   "source": [
    "#number of rows and columns\n",
    "agri_data.shape"
   ]
  },
  {
   "cell_type": "code",
   "execution_count": 39,
   "metadata": {
    "colab": {
     "base_uri": "https://localhost:8080/"
    },
    "id": "snkc805H_4a0",
    "outputId": "2a8a253b-ca94-4493-9eed-ea72035ab1fa"
   },
   "outputs": [
    {
     "name": "stdout",
     "output_type": "stream",
     "text": [
      "<class 'pandas.core.frame.DataFrame'>\n",
      "RangeIndex: 219 entries, 0 to 218\n",
      "Data columns (total 9 columns):\n",
      " #   Column        Non-Null Count  Dtype \n",
      "---  ------        --------------  ----- \n",
      " 0   state         219 non-null    object\n",
      " 1   district      219 non-null    object\n",
      " 2   market        219 non-null    object\n",
      " 3   commodity     219 non-null    int64 \n",
      " 4   variety       219 non-null    int64 \n",
      " 5   arrival_date  219 non-null    object\n",
      " 6   min_price     219 non-null    int64 \n",
      " 7   max_price     219 non-null    int64 \n",
      " 8   modal_price   219 non-null    int64 \n",
      "dtypes: int64(5), object(4)\n",
      "memory usage: 15.5+ KB\n"
     ]
    }
   ],
   "source": [
    "#getting some basic information about data\n",
    "agri_data.info()"
   ]
  },
  {
   "cell_type": "code",
   "execution_count": 40,
   "metadata": {
    "colab": {
     "base_uri": "https://localhost:8080/"
    },
    "id": "u6Jpx2Ih_9BS",
    "outputId": "57a09507-69f5-4c2e-ca05-4ff318f44a9b"
   },
   "outputs": [
    {
     "data": {
      "text/plain": [
       "state           0\n",
       "district        0\n",
       "market          0\n",
       "commodity       0\n",
       "variety         0\n",
       "arrival_date    0\n",
       "min_price       0\n",
       "max_price       0\n",
       "modal_price     0\n",
       "dtype: int64"
      ]
     },
     "execution_count": 40,
     "metadata": {},
     "output_type": "execute_result"
    }
   ],
   "source": [
    "#checking Number of missing values\n",
    "agri_data.isnull().sum()"
   ]
  },
  {
   "cell_type": "code",
   "execution_count": 41,
   "metadata": {
    "colab": {
     "base_uri": "https://localhost:8080/",
     "height": 300
    },
    "id": "rJ3ATHexAA5q",
    "outputId": "bc3734a8-ed86-4122-ec4c-0c5dd9c85481"
   },
   "outputs": [
    {
     "data": {
      "text/html": [
       "<div>\n",
       "<style scoped>\n",
       "    .dataframe tbody tr th:only-of-type {\n",
       "        vertical-align: middle;\n",
       "    }\n",
       "\n",
       "    .dataframe tbody tr th {\n",
       "        vertical-align: top;\n",
       "    }\n",
       "\n",
       "    .dataframe thead th {\n",
       "        text-align: right;\n",
       "    }\n",
       "</style>\n",
       "<table border=\"1\" class=\"dataframe\">\n",
       "  <thead>\n",
       "    <tr style=\"text-align: right;\">\n",
       "      <th></th>\n",
       "      <th>commodity</th>\n",
       "      <th>variety</th>\n",
       "      <th>min_price</th>\n",
       "      <th>max_price</th>\n",
       "      <th>modal_price</th>\n",
       "    </tr>\n",
       "  </thead>\n",
       "  <tbody>\n",
       "    <tr>\n",
       "      <th>count</th>\n",
       "      <td>219.000000</td>\n",
       "      <td>219.000000</td>\n",
       "      <td>219.000000</td>\n",
       "      <td>219.000000</td>\n",
       "      <td>219.000000</td>\n",
       "    </tr>\n",
       "    <tr>\n",
       "      <th>mean</th>\n",
       "      <td>36.762557</td>\n",
       "      <td>47.876712</td>\n",
       "      <td>2266.652968</td>\n",
       "      <td>2685.666667</td>\n",
       "      <td>2441.794521</td>\n",
       "    </tr>\n",
       "    <tr>\n",
       "      <th>std</th>\n",
       "      <td>21.599530</td>\n",
       "      <td>22.545944</td>\n",
       "      <td>1684.909033</td>\n",
       "      <td>1814.699147</td>\n",
       "      <td>1734.631722</td>\n",
       "    </tr>\n",
       "    <tr>\n",
       "      <th>min</th>\n",
       "      <td>0.000000</td>\n",
       "      <td>0.000000</td>\n",
       "      <td>200.000000</td>\n",
       "      <td>400.000000</td>\n",
       "      <td>300.000000</td>\n",
       "    </tr>\n",
       "    <tr>\n",
       "      <th>25%</th>\n",
       "      <td>17.000000</td>\n",
       "      <td>27.000000</td>\n",
       "      <td>1190.000000</td>\n",
       "      <td>1500.000000</td>\n",
       "      <td>1300.000000</td>\n",
       "    </tr>\n",
       "    <tr>\n",
       "      <th>50%</th>\n",
       "      <td>37.000000</td>\n",
       "      <td>58.000000</td>\n",
       "      <td>1900.000000</td>\n",
       "      <td>2400.000000</td>\n",
       "      <td>2000.000000</td>\n",
       "    </tr>\n",
       "    <tr>\n",
       "      <th>75%</th>\n",
       "      <td>57.000000</td>\n",
       "      <td>62.000000</td>\n",
       "      <td>3000.000000</td>\n",
       "      <td>3500.000000</td>\n",
       "      <td>3000.000000</td>\n",
       "    </tr>\n",
       "    <tr>\n",
       "      <th>max</th>\n",
       "      <td>70.000000</td>\n",
       "      <td>86.000000</td>\n",
       "      <td>11500.000000</td>\n",
       "      <td>12500.000000</td>\n",
       "      <td>12000.000000</td>\n",
       "    </tr>\n",
       "  </tbody>\n",
       "</table>\n",
       "</div>"
      ],
      "text/plain": [
       "        commodity     variety     min_price     max_price   modal_price\n",
       "count  219.000000  219.000000    219.000000    219.000000    219.000000\n",
       "mean    36.762557   47.876712   2266.652968   2685.666667   2441.794521\n",
       "std     21.599530   22.545944   1684.909033   1814.699147   1734.631722\n",
       "min      0.000000    0.000000    200.000000    400.000000    300.000000\n",
       "25%     17.000000   27.000000   1190.000000   1500.000000   1300.000000\n",
       "50%     37.000000   58.000000   1900.000000   2400.000000   2000.000000\n",
       "75%     57.000000   62.000000   3000.000000   3500.000000   3000.000000\n",
       "max     70.000000   86.000000  11500.000000  12500.000000  12000.000000"
      ]
     },
     "execution_count": 41,
     "metadata": {},
     "output_type": "execute_result"
    }
   ],
   "source": [
    "#getting the statistical measures of the data\n",
    "agri_data.describe()"
   ]
  },
  {
   "cell_type": "markdown",
   "metadata": {
    "id": "Vob-JSmVAFgQ"
   },
   "source": [
    "Find Correlation\n",
    "1. POSITIVE correlation\n",
    "2. NEGATIVE correlation"
   ]
  },
  {
   "cell_type": "code",
   "execution_count": 42,
   "metadata": {
    "id": "fdrSgw3nAW4B"
   },
   "outputs": [],
   "source": [
    "correlation=agri_data.corr()"
   ]
  },
  {
   "cell_type": "code",
   "execution_count": 27,
   "metadata": {
    "colab": {
     "base_uri": "https://localhost:8080/",
     "height": 487
    },
    "id": "C-5-cl1tAcMA",
    "outputId": "b6058eeb-7c4d-42d6-a05f-677848a00b10",
    "scrolled": true
   },
   "outputs": [
    {
     "data": {
      "text/plain": [
       "<AxesSubplot:>"
      ]
     },
     "execution_count": 27,
     "metadata": {},
     "output_type": "execute_result"
    },
    {
     "data": {
      "image/png": "[encoded data removed]",
      "text/plain": [
       "<Figure size 576x576 with 2 Axes>"
      ]
     },
     "metadata": {
      "needs_background": "light"
     },
     "output_type": "display_data"
    }
   ],
   "source": [
    "#constructing a heatmap to understand the correlation\n",
    "plt.figure(figsize=(8,8))\n",
    "sns.heatmap(correlation, cbar=True, square=True, fmt='.1f',annot=True,annot_kws={'size':8},cmap='Blues')"
   ]
  },
  {
   "cell_type": "code",
   "execution_count": 43,
   "metadata": {
    "colab": {
     "base_uri": "https://localhost:8080/",
     "height": 206
    },
    "id": "sxaPv1wYArui",
    "outputId": "77e6de55-d2d0-4648-c68e-0ac3f137764a"
   },
   "outputs": [
    {
     "data": {
      "text/html": [
       "<div>\n",
       "<style scoped>\n",
       "    .dataframe tbody tr th:only-of-type {\n",
       "        vertical-align: middle;\n",
       "    }\n",
       "\n",
       "    .dataframe tbody tr th {\n",
       "        vertical-align: top;\n",
       "    }\n",
       "\n",
       "    .dataframe thead th {\n",
       "        text-align: right;\n",
       "    }\n",
       "</style>\n",
       "<table border=\"1\" class=\"dataframe\">\n",
       "  <thead>\n",
       "    <tr style=\"text-align: right;\">\n",
       "      <th></th>\n",
       "      <th>state</th>\n",
       "      <th>district</th>\n",
       "      <th>market</th>\n",
       "      <th>commodity</th>\n",
       "      <th>variety</th>\n",
       "      <th>arrival_date</th>\n",
       "      <th>min_price</th>\n",
       "      <th>max_price</th>\n",
       "      <th>modal_price</th>\n",
       "    </tr>\n",
       "  </thead>\n",
       "  <tbody>\n",
       "    <tr>\n",
       "      <th>0</th>\n",
       "      <td>Gujarat</td>\n",
       "      <td>Amreli</td>\n",
       "      <td>Damnagar</td>\n",
       "      <td>12</td>\n",
       "      <td>14</td>\n",
       "      <td>18/01/2021</td>\n",
       "      <td>1400</td>\n",
       "      <td>1600</td>\n",
       "      <td>1500</td>\n",
       "    </tr>\n",
       "    <tr>\n",
       "      <th>1</th>\n",
       "      <td>Gujarat</td>\n",
       "      <td>Amreli</td>\n",
       "      <td>Damnagar</td>\n",
       "      <td>16</td>\n",
       "      <td>62</td>\n",
       "      <td>18/01/2021</td>\n",
       "      <td>1000</td>\n",
       "      <td>1200</td>\n",
       "      <td>1100</td>\n",
       "    </tr>\n",
       "    <tr>\n",
       "      <th>2</th>\n",
       "      <td>Gujarat</td>\n",
       "      <td>Amreli</td>\n",
       "      <td>Damnagar</td>\n",
       "      <td>17</td>\n",
       "      <td>20</td>\n",
       "      <td>18/01/2021</td>\n",
       "      <td>200</td>\n",
       "      <td>400</td>\n",
       "      <td>300</td>\n",
       "    </tr>\n",
       "    <tr>\n",
       "      <th>3</th>\n",
       "      <td>Gujarat</td>\n",
       "      <td>Amreli</td>\n",
       "      <td>Damnagar</td>\n",
       "      <td>21</td>\n",
       "      <td>23</td>\n",
       "      <td>18/01/2021</td>\n",
       "      <td>400</td>\n",
       "      <td>600</td>\n",
       "      <td>500</td>\n",
       "    </tr>\n",
       "    <tr>\n",
       "      <th>4</th>\n",
       "      <td>Gujarat</td>\n",
       "      <td>Amreli</td>\n",
       "      <td>Damnagar</td>\n",
       "      <td>26</td>\n",
       "      <td>28</td>\n",
       "      <td>18/01/2021</td>\n",
       "      <td>300</td>\n",
       "      <td>500</td>\n",
       "      <td>400</td>\n",
       "    </tr>\n",
       "  </tbody>\n",
       "</table>\n",
       "</div>"
      ],
      "text/plain": [
       "     state district    market  commodity  variety arrival_date  min_price  \\\n",
       "0  Gujarat   Amreli  Damnagar         12       14   18/01/2021       1400   \n",
       "1  Gujarat   Amreli  Damnagar         16       62   18/01/2021       1000   \n",
       "2  Gujarat   Amreli  Damnagar         17       20   18/01/2021        200   \n",
       "3  Gujarat   Amreli  Damnagar         21       23   18/01/2021        400   \n",
       "4  Gujarat   Amreli  Damnagar         26       28   18/01/2021        300   \n",
       "\n",
       "   max_price  modal_price  \n",
       "0       1600         1500  \n",
       "1       1200         1100  \n",
       "2        400          300  \n",
       "3        600          500  \n",
       "4        500          400  "
      ]
     },
     "execution_count": 43,
     "metadata": {},
     "output_type": "execute_result"
    }
   ],
   "source": [
    "#Normalize labels\n",
    "from sklearn.preprocessing import LabelEncoder\n",
    "le=LabelEncoder()\n",
    "agri_data['commodity']=le.fit_transform(agri_data['commodity'])\n",
    "agri_data['variety']=le.fit_transform(agri_data['variety'])\n",
    "agri_data.head()"
   ]
  },
  {
   "cell_type": "markdown",
   "metadata": {
    "id": "YyoC2R4BA7_3"
   },
   "source": [
    "***Storing vector and values seperately***"
   ]
  },
  {
   "cell_type": "code",
   "execution_count": 44,
   "metadata": {
    "colab": {
     "base_uri": "https://localhost:8080/"
    },
    "id": "XmzXefUTA985",
    "outputId": "f5fafe3f-f3f6-45e4-c99f-d9ab6cd0fcd4"
   },
   "outputs": [
    {
     "name": "stdout",
     "output_type": "stream",
     "text": [
      "     commodity  variety  min_price  max_price\n",
      "0           12       14       1400       1600\n",
      "1           16       62       1000       1200\n",
      "2           17       20        200        400\n",
      "3           21       23        400        600\n",
      "4           26       28        300        500\n",
      "..         ...      ...        ...        ...\n",
      "214         57       48       1180       1250\n",
      "215         60       27       2550       2650\n",
      "216         66       82        900       1200\n",
      "217         69       85       1700       2300\n",
      "218         70       79       1900       2100\n",
      "\n",
      "[219 rows x 4 columns]\n",
      "0      1500\n",
      "1      1100\n",
      "2       300\n",
      "3       500\n",
      "4       400\n",
      "       ... \n",
      "214    1200\n",
      "215    2600\n",
      "216    1000\n",
      "217    2000\n",
      "218    2000\n",
      "Name: modal_price, Length: 219, dtype: int64\n"
     ]
    }
   ],
   "source": [
    "from sklearn.metrics import r2_score\n",
    "x=agri_data.iloc[:,[3,4,6,7]]\n",
    "y=agri_data['modal_price']\n",
    "print(x)\n",
    "print(y)"
   ]
  },
  {
   "cell_type": "markdown",
   "metadata": {
    "id": "vGToswRTBEx9"
   },
   "source": [
    "***Splitting Training and Test Data***"
   ]
  },
  {
   "cell_type": "code",
   "execution_count": 30,
   "metadata": {
    "id": "iJ0JFYd5BGWe"
   },
   "outputs": [],
   "source": [
    "X_train, X_test, y_train, y_test = train_test_split(x, y,train_size=0.80,  test_size = 0.20, random_state = 1)"
   ]
  },
  {
   "cell_type": "markdown",
   "metadata": {
    "id": "6dafXV98BNfR"
   },
   "source": [
    "**Model Training**\n",
    "\n",
    "1. linear regression"
   ]
  },
  {
   "cell_type": "code",
   "execution_count": 31,
   "metadata": {
    "colab": {
     "base_uri": "https://localhost:8080/"
    },
    "id": "3n6NbE3rBQR1",
    "outputId": "f1d763c7-853a-4a44-d770-1e0405cf3217"
   },
   "outputs": [
    {
     "name": "stdout",
     "output_type": "stream",
     "text": [
      "0.9973441365735412\n"
     ]
    }
   ],
   "source": [
    "lr=LinearRegression()\n",
    "lr.fit(X_train,y_train)\n",
    "y_predict=lr.predict(X_test)\n",
    "acc1=r2_score(y_predict,y_test)\n",
    "print(acc1)"
   ]
  },
  {
   "cell_type": "markdown",
   "metadata": {
    "id": "KT-Yb-doioVZ"
   },
   "source": [
    "2. Random Forest"
   ]
  },
  {
   "cell_type": "code",
   "execution_count": 32,
   "metadata": {
    "colab": {
     "base_uri": "https://localhost:8080/"
    },
    "id": "v6OI_4PXirp7",
    "outputId": "9966e17d-c603-41bd-f70a-0f00a28eca51"
   },
   "outputs": [
    {
     "data": {
      "text/plain": [
       "0.995256447796064"
      ]
     },
     "execution_count": 32,
     "metadata": {},
     "output_type": "execute_result"
    }
   ],
   "source": [
    "rfr=RandomForestRegressor()\n",
    "rfr.fit(X_train,y_train)\n",
    "y_predict1=rfr.predict(X_test)\n",
    "acc2=rfr.score(X_test,y_test)\n",
    "acc2"
   ]
  },
  {
   "cell_type": "markdown",
   "metadata": {
    "id": "IwpHj1OMkvTs"
   },
   "source": [
    "3. Decision Tree"
   ]
  },
  {
   "cell_type": "code",
   "execution_count": 33,
   "metadata": {
    "colab": {
     "base_uri": "https://localhost:8080/"
    },
    "id": "A84PbdCykx7P",
    "outputId": "45b206e6-3c2a-4ad6-9a13-1eecedef5781"
   },
   "outputs": [
    {
     "data": {
      "text/plain": [
       "0.9942879314718673"
      ]
     },
     "execution_count": 33,
     "metadata": {},
     "output_type": "execute_result"
    }
   ],
   "source": [
    "from sklearn import tree\n",
    "dtr=tree.DecisionTreeRegressor()\n",
    "dtr.fit(X_train,y_train)\n",
    "y_predict2=dtr.predict(X_test)\n",
    "acc3=r2_score(y_predict2,y_test)\n",
    "acc3"
   ]
  },
  {
   "cell_type": "markdown",
   "metadata": {
    "id": "tWw4uqv5BYzE"
   },
   "source": [
    "***Model Evaluation***\n",
    "1. Linear Regression"
   ]
  },
  {
   "cell_type": "code",
   "execution_count": 34,
   "metadata": {
    "colab": {
     "base_uri": "https://localhost:8080/"
    },
    "id": "HNXn4sjxBcEU",
    "outputId": "0aa70760-a6e5-4c39-890e-707c92aef2d0"
   },
   "outputs": [
    {
     "name": "stderr",
     "output_type": "stream",
     "text": [
      "/Users/shreshikanayani/opt/anaconda3/lib/python3.9/site-packages/sklearn/base.py:450: UserWarning: X does not have valid feature names, but LinearRegression was fitted with feature names\n",
      "  warnings.warn(\n"
     ]
    },
    {
     "data": {
      "text/plain": [
       "3031"
      ]
     },
     "execution_count": 34,
     "metadata": {},
     "output_type": "execute_result"
    }
   ],
   "source": [
    "test_vector=np.reshape(np.asarray([1,5,3100.0,3000.0]),(1,4))\n",
    "p=int(lr.predict(test_vector)[0])\n",
    "p"
   ]
  },
  {
   "cell_type": "markdown",
   "metadata": {
    "id": "ldFPclGapaTU"
   },
   "source": [
    "2. Random Forest"
   ]
  },
  {
   "cell_type": "code",
   "execution_count": 35,
   "metadata": {
    "colab": {
     "base_uri": "https://localhost:8080/"
    },
    "id": "Mlc71tcLpeiM",
    "outputId": "fc0344a4-bd3e-4a7f-b740-4c3badac455d"
   },
   "outputs": [
    {
     "name": "stderr",
     "output_type": "stream",
     "text": [
      "/Users/shreshikanayani/opt/anaconda3/lib/python3.9/site-packages/sklearn/base.py:450: UserWarning: X does not have valid feature names, but RandomForestRegressor was fitted with feature names\n",
      "  warnings.warn(\n"
     ]
    },
    {
     "data": {
      "text/plain": [
       "2846"
      ]
     },
     "execution_count": 35,
     "metadata": {},
     "output_type": "execute_result"
    }
   ],
   "source": [
    "test_vector=np.reshape(np.asarray([1,5,3100.0,3000.0]),(1,4))\n",
    "q=int(rfr.predict(test_vector)[0])\n",
    "q"
   ]
  },
  {
   "cell_type": "markdown",
   "metadata": {
    "id": "tclFrj2qpfa3"
   },
   "source": [
    "3. Decision Tree"
   ]
  },
  {
   "cell_type": "code",
   "execution_count": 36,
   "metadata": {
    "colab": {
     "base_uri": "https://localhost:8080/"
    },
    "id": "K_RKU-Q2piCk",
    "outputId": "7b1cbb36-d5f4-4fbd-8c89-889cd1c9415f"
   },
   "outputs": [
    {
     "name": "stderr",
     "output_type": "stream",
     "text": [
      "/Users/shreshikanayani/opt/anaconda3/lib/python3.9/site-packages/sklearn/base.py:450: UserWarning: X does not have valid feature names, but DecisionTreeRegressor was fitted with feature names\n",
      "  warnings.warn(\n"
     ]
    },
    {
     "data": {
      "text/plain": [
       "2900"
      ]
     },
     "execution_count": 36,
     "metadata": {},
     "output_type": "execute_result"
    }
   ],
   "source": [
    "test_vector=np.reshape(np.asarray([1,5,3100.0,3000.0]),(1,4))\n",
    "r=int(dtr.predict(test_vector)[0])\n",
    "r"
   ]
  },
  {
   "cell_type": "markdown",
   "metadata": {
    "id": "37bZXlTU7DS8"
   },
   "source": [
    "***Visualize the actual and predicted prices***"
   ]
  },
  {
   "cell_type": "markdown",
   "metadata": {
    "id": "GzSUlCLwqSBu"
   },
   "source": [
    "1. Linear Regression"
   ]
  },
  {
   "cell_type": "code",
   "execution_count": 37,
   "metadata": {
    "colab": {
     "base_uri": "https://localhost:8080/",
     "height": 295
    },
    "id": "EDZp0_Lx7PKK",
    "outputId": "00f4a2e5-12d8-4931-c5ed-f200a7e2bb5b"
   },
   "outputs": [
    {
     "data": {
      "image/png": "[encoded data removed]",
      "text/plain": [
       "<Figure size 432x288 with 1 Axes>"
      ]
     },
     "metadata": {
      "needs_background": "light"
     },
     "output_type": "display_data"
    }
   ],
   "source": [
    "plt.scatter(y_test,y_predict)\n",
    "plt.xlabel('Actual price')\n",
    "plt.ylabel('Predicted price')\n",
    "plt.title('Actual Price vs Predicted price using Linear Regression')\n",
    "plt.show()"
   ]
  },
  {
   "cell_type": "markdown",
   "metadata": {
    "id": "LKUyTL2-qWwX"
   },
   "source": [
    "2.Random Forest"
   ]
  },
  {
   "cell_type": "code",
   "execution_count": 45,
   "metadata": {
    "colab": {
     "base_uri": "https://localhost:8080/",
     "height": 295
    },
    "id": "Yz0lTXUKqYpC",
    "outputId": "b5939e27-ec67-4c91-b028-6de12c1f1293"
   },
   "outputs": [
    {
     "data": {
      "image/png": "[encoded data removed]",
      "text/plain": [
       "<Figure size 432x288 with 1 Axes>"
      ]
     },
     "metadata": {
      "needs_background": "light"
     },
     "output_type": "display_data"
    }
   ],
   "source": [
    "plt.scatter(y_test,y_predict1)\n",
    "plt.xlabel('Actual price')\n",
    "plt.ylabel('Predicted price')\n",
    "plt.title('Actual Price vs Predicted price using Random Forest')\n",
    "plt.show()"
   ]
  },
  {
   "cell_type": "markdown",
   "metadata": {
    "id": "i7ZQOo9aqvpr"
   },
   "source": [
    "3. Decision Tree"
   ]
  },
  {
   "cell_type": "code",
   "execution_count": 46,
   "metadata": {
    "colab": {
     "base_uri": "https://localhost:8080/",
     "height": 295
    },
    "id": "AP7FUoN7qzC_",
    "outputId": "ea55025a-9b51-451f-a35a-71e7113d5afd"
   },
   "outputs": [
    {
     "data": {
      "image/png": "[encoded data removed]",
      "text/plain": [
       "<Figure size 432x288 with 1 Axes>"
      ]
     },
     "metadata": {
      "needs_background": "light"
     },
     "output_type": "display_data"
    }
   ],
   "source": [
    "plt.scatter(y_test,y_predict2)\n",
    "plt.xlabel('Actual price')\n",
    "plt.ylabel('Predicted price')\n",
    "plt.title('Actual Price vs Predicted price using Decision Tree')\n",
    "plt.show()"
   ]
  },
  {
   "cell_type": "markdown",
   "metadata": {
    "id": "brxXjah6E12Q"
   },
   "source": []
  },
  {
   "cell_type": "code",
   "execution_count": null,
   "metadata": {
    "id": "A5H9lxxDET8L"
   },
   "outputs": [],
   "source": [
    "#saving model to disc\n",
    "pickle.dump(lr,open('lrmodel.pkl','wb'))"
   ]
  },
  {
   "cell_type": "code",
   "execution_count": null,
   "metadata": {
    "id": "4UlakvYAFYmx"
   },
   "outputs": [],
   "source": [
    "#Loading model to compare the results\n",
    "model=pickle.load(open('lrmodel.pkl','rb'))"
   ]
  },
  {
   "cell_type": "code",
   "execution_count": null,
   "metadata": {},
   "outputs": [],
   "source": [
    "pickle.dump(rfr,open('rfrmodel.pkl','wb'))"
   ]
  },
  {
   "cell_type": "code",
   "execution_count": null,
   "metadata": {},
   "outputs": [],
   "source": [
    "model1=pickle.load(open('rfrmodel.pkl','rb'))"
   ]
  },
  {
   "cell_type": "code",
   "execution_count": null,
   "metadata": {},
   "outputs": [],
   "source": [
    "pickle.dump(dtr,open('dtrmodel.pkl','wb'))"
   ]
  },
  {
   "cell_type": "code",
   "execution_count": null,
   "metadata": {},
   "outputs": [],
   "source": [
    "model2=pickle.load(open('dtrmodel.pkl','rb'))"
   ]
  },
  {
   "cell_type": "code",
   "execution_count": null,
   "metadata": {},
   "outputs": [],
   "source": []
  }
 ],
 "metadata": {
  "colab": {
   "name": "Major.ipynb",
   "provenance": []
  },
  "kernelspec": {
   "display_name": "Python 3 (ipykernel)",
   "language": "python",
   "name": "python3"
  },
  "language_info": {
   "codemirror_mode": {
    "name": "ipython",
    "version": 3
   },
   "file_extension": ".py",
   "mimetype": "text/x-python",
   "name": "python",
   "nbconvert_exporter": "python",
   "pygments_lexer": "ipython3",
   "version": "3.9.12"
  }
 },
 "nbformat": 4,
 "nbformat_minor": 1
}
